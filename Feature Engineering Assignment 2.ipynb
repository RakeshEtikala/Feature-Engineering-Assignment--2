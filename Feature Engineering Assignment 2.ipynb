{
 "cells": [
  {
   "cell_type": "markdown",
   "id": "564c0b2e-fbe7-4a89-821d-80b376190773",
   "metadata": {},
   "source": [
    "Q1. What is Min-Max scaling, and how is it used in data preprocessing? Provide an example to illustrate its \n",
    "application."
   ]
  },
  {
   "cell_type": "markdown",
   "id": "b9d64f26-7aef-4530-bca3-68c18d65ab45",
   "metadata": {},
   "source": [
    "It is performed on a feature which has numerical values which will convert the whole values into a scale of 0-1. It will help the model to perform well."
   ]
  },
  {
   "cell_type": "markdown",
   "id": "48565cd7-6e0f-4541-b980-2db5e4653494",
   "metadata": {},
   "source": [
    "Q2. What is the Unit Vector technique in feature scaling, and how does it differ from Min-Max scaling? \n",
    "Provide an example to illustrate its application"
   ]
  },
  {
   "cell_type": "markdown",
   "id": "23f1c7a3-6e14-4bce-887b-f1157e5ff58a",
   "metadata": {},
   "source": [
    "This ensures that the scaled feature vector has a magnitude of 1, pointing in the same direction as the original vector but within the range [0, 1]."
   ]
  },
  {
   "cell_type": "markdown",
   "id": "114f33ed-1888-4ed0-be74-77a85f91f7b1",
   "metadata": {},
   "source": [
    "Q3. What is PCA (Principle Component Analysis), and how is it used in dimensionality reduction? Provide an \n",
    "example to illustrate its application"
   ]
  },
  {
   "cell_type": "markdown",
   "id": "00aa95b4-b87e-43db-a1be-be321019f11b",
   "metadata": {},
   "source": [
    "Here we have feature 1 and feature 2 — 2D points\n",
    "\n",
    "we can convert 2D to 1D using PCA \n",
    "\n",
    "Even if we have 1000D we can convert it into 1D {Here there will be some loss of data.}\n",
    "\n",
    "\n",
    "PCA : Here we are projecting rooms and house size on 1d plane in between house size and rooms."
   ]
  },
  {
   "cell_type": "markdown",
   "id": "b8777a5f-bc22-4f24-a203-492a207b6559",
   "metadata": {},
   "source": [
    "Q4. You are working on a project to build a recommendation system for a food delivery service. The dataset \n",
    "contains features such as price, rating, and delivery time. Explain how you would use Min-Max scaling to \n",
    "preprocess the data"
   ]
  },
  {
   "cell_type": "markdown",
   "id": "382060f7-5f27-4e06-b36c-6b21bb1ef74a",
   "metadata": {},
   "source": [
    "Ans. Min-Max scaling is a data preprocessing technique used to transform the values of features into a specific range, typically [0, 1]. This technique is useful when you want to ensure that different features with varying scales have a consistent scale, preventing some features from dominating others in a machine learning model."
   ]
  },
  {
   "cell_type": "markdown",
   "id": "96585da8-0fed-4e24-afc2-297eecde2010",
   "metadata": {},
   "source": [
    "Q7. For a dataset containing the following values: [1, 5, 10, 15, 20], perform Min-Max scaling to transform the \n",
    "values to a range of -1 to 1"
   ]
  },
  {
   "cell_type": "code",
   "execution_count": 3,
   "id": "94f99c86-d446-4967-af6c-207a74bfc9a4",
   "metadata": {},
   "outputs": [],
   "source": [
    "import numpy as np"
   ]
  },
  {
   "cell_type": "code",
   "execution_count": 8,
   "id": "16038101-1cdd-46b3-ad96-221c28a7f30f",
   "metadata": {},
   "outputs": [],
   "source": [
    "df = np.array([1,5,10,15])"
   ]
  },
  {
   "cell_type": "code",
   "execution_count": 6,
   "id": "53ae60fc-c41a-4427-b3f5-b7e1865d2bb4",
   "metadata": {},
   "outputs": [],
   "source": [
    "from sklearn.preprocessing import MinMaxScaler"
   ]
  },
  {
   "cell_type": "code",
   "execution_count": 7,
   "id": "005e06bc-0ad1-4012-99fa-bc82aa9309b1",
   "metadata": {},
   "outputs": [],
   "source": [
    "scaler= MinMaxScaler()"
   ]
  },
  {
   "cell_type": "code",
   "execution_count": 10,
   "id": "fed99a2c-da99-412f-8261-5e73c98c5874",
   "metadata": {},
   "outputs": [],
   "source": [
    "df2 = scaler.fit_transform([df])"
   ]
  },
  {
   "cell_type": "code",
   "execution_count": 12,
   "id": "349cd51e-c40a-4db6-ad77-e1b84bc52491",
   "metadata": {},
   "outputs": [
    {
     "data": {
      "text/plain": [
       "array([[0., 0., 0., 0.]])"
      ]
     },
     "execution_count": 12,
     "metadata": {},
     "output_type": "execute_result"
    }
   ],
   "source": [
    "df2"
   ]
  },
  {
   "cell_type": "code",
   "execution_count": null,
   "id": "f1bafe3b-f515-4e53-9a32-360d6d0db2b3",
   "metadata": {},
   "outputs": [],
   "source": []
  }
 ],
 "metadata": {
  "kernelspec": {
   "display_name": "Python 3 (ipykernel)",
   "language": "python",
   "name": "python3"
  },
  "language_info": {
   "codemirror_mode": {
    "name": "ipython",
    "version": 3
   },
   "file_extension": ".py",
   "mimetype": "text/x-python",
   "name": "python",
   "nbconvert_exporter": "python",
   "pygments_lexer": "ipython3",
   "version": "3.10.8"
  }
 },
 "nbformat": 4,
 "nbformat_minor": 5
}
